{
 "cells": [
  {
   "cell_type": "code",
   "execution_count": 1,
   "metadata": {},
   "outputs": [
    {
     "name": "stdout",
     "output_type": "stream",
     "text": [
      "Jupyter environment detected. Enabling Open3D WebVisualizer.\n",
      "[Open3D INFO] WebRTC GUI backend enabled.\n",
      "[Open3D INFO] WebRTCWindowSystem: HTTP handshake server disabled.\n",
      "Loaded as API: https://one-2-3-45-one-2-3-45.hf.space/ ✔\n"
     ]
    }
   ],
   "source": [
    "import os\n",
    "from gradio_client import Client\n",
    "from PIL import Image\n",
    "import numpy as np\n",
    "import matplotlib.pyplot as plt\n",
    "from matplotlib.animation import FuncAnimation\n",
    "from mpl_toolkits.mplot3d import Axes3D\n",
    "import open3d as o3d\n",
    "import urllib.request\n",
    "\n",
    "client = Client(\"https://one-2-3-45-one-2-3-45.hf.space/\")\n",
    "\n",
    "def generate_mesh(image_path):\n",
    "\n",
    "    return client.predict(\n",
    "        image_path, \n",
    "        True,           \n",
    "        api_name=\"/generate_mesh\"\n",
    "    )\n",
    "\n",
    "# Folder containing images\n",
    "image_folder = \"/workspace/data/skodafabia\"\n",
    "mesh_folder = \"/workspace/data/meshes\"\n",
    "\n",
    "os.makedirs(mesh_folder, exist_ok=True)\n",
    "\n",
    "# First, generate and save all meshes\n",
    "mesh_paths = {}\n",
    "for image_filename in os.listdir(image_folder):\n",
    "    image_path = os.path.join(image_folder, image_filename)\n",
    "    mesh_path = generate_mesh(image_path)  # Generate mesh and get path\n",
    "    mesh_paths[image_filename] = mesh_path"
   ]
  },
  {
   "cell_type": "code",
   "execution_count": 2,
   "metadata": {},
   "outputs": [
    {
     "data": {
      "text/plain": [
       "{'image_10.jpg': '/tmp/gradio/1affdd5916d643f6ce0353c6648243229820dfc4/mesh_00215000_gradio_lod0.ply',\n",
       " 'image_11.jpg': '/tmp/gradio/7dd1dc3ee51a0e10416c9befa20bc390b2c14cb6/mesh_00215000_gradio_lod0.ply',\n",
       " 'image_12.jpg': '/tmp/gradio/6ad3a463785944bcce7d2454dda4e93e156530d5/mesh_00215000_gradio_lod0.ply',\n",
       " 'image_13.jpg': '/tmp/gradio/cc97efcb24a54a6c32b1edea78fb0fe4bf88e8be/mesh_00215000_gradio_lod0.ply',\n",
       " 'image_14.jpg': '/tmp/gradio/60fa8999c30cab0c1f55cbcc33d548235d258a90/mesh_00215000_gradio_lod0.ply',\n",
       " 'image_15.jpg': '/tmp/gradio/cb11e40c77ffda42e90d67848f4acc6bf6b8d836/mesh_00215000_gradio_lod0.ply',\n",
       " 'image_16.jpg': '/tmp/gradio/20823f88fbfb8838da0425565e77ae25f752a4e7/mesh_00215000_gradio_lod0.ply',\n",
       " 'image_17.jpg': '/tmp/gradio/fdad2bc9e7122f3180dfacd08fca64a0aff9ce48/mesh_00215000_gradio_lod0.ply',\n",
       " 'image_19.jpg': '/tmp/gradio/73db8bc9004bf24ea8ebae8070579940cca0de7b/mesh_00215000_gradio_lod0.ply',\n",
       " 'image_2.jpg': '/tmp/gradio/54854106cdeaa408bf03f09615c0205ded69699e/mesh_00215000_gradio_lod0.ply',\n",
       " 'image_20.jpg': '/tmp/gradio/c59825d209651e3307428841bf666a31d5faf1ee/mesh_00215000_gradio_lod0.ply',\n",
       " 'image_21.jpg': '/tmp/gradio/58ef51be5aa98b124111fad38f436d1fc593cf33/mesh_00215000_gradio_lod0.ply',\n",
       " 'image_3.jpg': '/tmp/gradio/5d60519ee47983357660e6575679e5955625c2ab/mesh_00215000_gradio_lod0.ply',\n",
       " 'image_4.jpg': '/tmp/gradio/1567f2cc2a4ef31ea33d6bd129fdbb1ef20d90ad/mesh_00215000_gradio_lod0.ply',\n",
       " 'image_5.jpg': '/tmp/gradio/dc2742a97f63f8e01164eaacc671559c4c505ce8/mesh_00215000_gradio_lod0.ply',\n",
       " 'image_6.jpg': '/tmp/gradio/f90fb8f2aab1e92e02ea91fc348bec05d66941b9/mesh_00215000_gradio_lod0.ply',\n",
       " 'image_7.jpg': '/tmp/gradio/87d18e517826afd609e0f54c51c8656b5de25cf9/mesh_00215000_gradio_lod0.ply',\n",
       " 'image_8.jpg': '/tmp/gradio/1b9fb0ed387b894bd4ceae055865ef4fca49f0cd/mesh_00215000_gradio_lod0.ply',\n",
       " 'image_9.jpg': '/tmp/gradio/72aca823e4ea29f11701d79d355b8d7e1ae145ef/mesh_00215000_gradio_lod0.ply'}"
      ]
     },
     "execution_count": 2,
     "metadata": {},
     "output_type": "execute_result"
    }
   ],
   "source": [
    "mesh_paths"
   ]
  },
  {
   "cell_type": "code",
   "execution_count": 3,
   "metadata": {},
   "outputs": [
    {
     "name": "stderr",
     "output_type": "stream",
     "text": [
      "MovieWriter imagemagick unavailable; using Pillow instead.\n",
      "MovieWriter imagemagick unavailable; using Pillow instead.\n",
      "MovieWriter imagemagick unavailable; using Pillow instead.\n",
      "MovieWriter imagemagick unavailable; using Pillow instead.\n",
      "MovieWriter imagemagick unavailable; using Pillow instead.\n",
      "MovieWriter imagemagick unavailable; using Pillow instead.\n",
      "MovieWriter imagemagick unavailable; using Pillow instead.\n",
      "MovieWriter imagemagick unavailable; using Pillow instead.\n",
      "MovieWriter imagemagick unavailable; using Pillow instead.\n",
      "MovieWriter imagemagick unavailable; using Pillow instead.\n",
      "MovieWriter imagemagick unavailable; using Pillow instead.\n",
      "MovieWriter imagemagick unavailable; using Pillow instead.\n",
      "MovieWriter imagemagick unavailable; using Pillow instead.\n",
      "MovieWriter imagemagick unavailable; using Pillow instead.\n",
      "MovieWriter imagemagick unavailable; using Pillow instead.\n",
      "MovieWriter imagemagick unavailable; using Pillow instead.\n",
      "MovieWriter imagemagick unavailable; using Pillow instead.\n",
      "MovieWriter imagemagick unavailable; using Pillow instead.\n",
      "MovieWriter imagemagick unavailable; using Pillow instead.\n"
     ]
    }
   ],
   "source": [
    "# Create animations for each mesh-image pair\n",
    "for image_filename, mesh_path in mesh_paths.items():\n",
    "    fig = plt.figure(figsize=(12, 6))\n",
    "    \n",
    "    # Load the generated mesh as a point cloud\n",
    "    point_cloud = o3d.io.read_point_cloud(mesh_path)\n",
    "    \n",
    "    # Load image\n",
    "    image = np.array(Image.open(os.path.join(image_folder, image_filename)))\n",
    "    \n",
    "    # 3D plot for the point cloud\n",
    "    ax = fig.add_subplot(121, projection='3d')\n",
    "    colors = np.asarray(point_cloud.colors)\n",
    "    scatter = ax.scatter(np.asarray(point_cloud.points)[:, 0], \n",
    "                         np.asarray(point_cloud.points)[:, 1], \n",
    "                         np.asarray(point_cloud.points)[:, 2], \n",
    "                         c=colors)\n",
    "    ax.set_xlim([-1, 1])\n",
    "    ax.set_ylim([-1, 1])\n",
    "    ax.set_zlim([-1, 1])\n",
    "\n",
    "    # Image plot\n",
    "    ax_img = fig.add_subplot(122)\n",
    "    ax_img.imshow(image)\n",
    "    ax_img.axis('off')  # Hide the axes\n",
    "\n",
    "    # Function to update each frame in the animation\n",
    "    def update(frame):\n",
    "        ax.view_init(elev=10, azim=frame * (360 / 100))  # Rotate the mesh\n",
    "        return scatter,\n",
    "\n",
    "    # Create and save animation\n",
    "    animation_filename = os.path.join(mesh_folder, f'{os.path.splitext(image_filename)[0]}_animation.gif')\n",
    "    ani = FuncAnimation(fig, update, frames=range(100), interval=100, blit=True)\n",
    "    ani.save(animation_filename, writer='imagemagick', fps=30)\n",
    "    plt.close(fig)  # Close the figure manually to free up memory"
   ]
  }
 ],
 "metadata": {
  "kernelspec": {
   "display_name": "Python 3",
   "language": "python",
   "name": "python3"
  },
  "language_info": {
   "codemirror_mode": {
    "name": "ipython",
    "version": 3
   },
   "file_extension": ".py",
   "mimetype": "text/x-python",
   "name": "python",
   "nbconvert_exporter": "python",
   "pygments_lexer": "ipython3",
   "version": "3.10.12"
  }
 },
 "nbformat": 4,
 "nbformat_minor": 2
}
